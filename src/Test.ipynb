{
 "cells": [
  {
   "cell_type": "code",
   "execution_count": 1,
   "metadata": {
    "collapsed": true,
    "ExecuteTime": {
     "start_time": "2023-04-24T20:18:06.890431Z",
     "end_time": "2023-04-24T20:18:11.490863Z"
    }
   },
   "outputs": [
    {
     "name": "stderr",
     "output_type": "stream",
     "text": [
      "\u001B[32m[2023-04-24 20:18:07,536] [    INFO]\u001B[0m - Found /home/christophe/.paddlenlp/models/skep_ernie_2.0_large_en/skep_ernie_2.0_large_en.vocab.txt\u001B[0m\n"
     ]
    },
    {
     "name": "stdout",
     "output_type": "stream",
     "text": [
      "label dict loaded.\n"
     ]
    },
    {
     "name": "stderr",
     "output_type": "stream",
     "text": [
      "\u001B[32m[2023-04-24 20:18:08,763] [    INFO]\u001B[0m - Already cached /home/christophe/.paddlenlp/models/skep_ernie_2.0_large_en/skep_ernie_2.0_large_en.pdparams\u001B[0m\n",
      "W0424 20:18:08.764382 43361 gpu_resources.cc:61] Please NOTE: device: 0, GPU Compute Capability: 8.6, Driver API Version: 12.1, Runtime API Version: 11.7\n",
      "W0424 20:18:08.764807 43361 gpu_resources.cc:91] device: 0, cuDNN Version: 8.8.\n"
     ]
    },
    {
     "name": "stdout",
     "output_type": "stream",
     "text": [
      "extraction model loaded.\n"
     ]
    },
    {
     "name": "stderr",
     "output_type": "stream",
     "text": [
      "\u001B[32m[2023-04-24 20:18:10,335] [    INFO]\u001B[0m - Already cached /home/christophe/.paddlenlp/models/skep_ernie_2.0_large_en/skep_ernie_2.0_large_en.pdparams\u001B[0m\n"
     ]
    },
    {
     "name": "stdout",
     "output_type": "stream",
     "text": [
      "classification model loaded.\n"
     ]
    }
   ],
   "source": [
    "from paddlenlp.transformers import SkepForTokenClassification, SkepForSequenceClassification, SkepTokenizer, SkepModel\n",
    "import paddle\n",
    "from seqeval.metrics.sequence_labeling import get_entities\n",
    "\n",
    "label_ext_path = \"./data/opener_en_extraction/label.dict\"\n",
    "label_cls_path = \"./data/opener_en_relations/label.dict\"\n",
    "ext_model_path = \"./checkpoint/best_ext.pdparams\"\n",
    "cls_model_path = \"./checkpoint/best_cls.pdparams\"\n",
    "\n",
    "\n",
    "def load_ext_dict(dict_path):\n",
    "    with open(dict_path, \"r\", encoding=\"utf-8\") as f:\n",
    "        words = [word.strip() for word in f.readlines()]\n",
    "        word2id = dict(zip(words, range(len(words))))\n",
    "        id2word = dict((v, k) for k, v in word2id.items())\n",
    "\n",
    "        return word2id, id2word\n",
    "\n",
    "\n",
    "def load_cls_dict(dict_path):\n",
    "    with open(dict_path, \"r\", encoding=\"utf-8\") as f:\n",
    "        words = [word.strip() for word in f.readlines()]\n",
    "        word2id = dict(zip(words, range(len(words))))\n",
    "        id2word = dict((v, k) for k, v in word2id.items())\n",
    "\n",
    "        return word2id, id2word\n",
    "\n",
    "\n",
    "model_name = \"skep_ernie_2.0_large_en\"\n",
    "ext_label2id, ext_id2label = load_ext_dict(label_ext_path)\n",
    "cls_label2id, cls_id2label = load_cls_dict(label_cls_path)\n",
    "tokenizer = SkepTokenizer.from_pretrained(model_name)\n",
    "print(\"label dict loaded.\")\n",
    "\n",
    "# load ext model\n",
    "ext_state_dict = paddle.load(ext_model_path)\n",
    "ext_skep = SkepModel.from_pretrained(model_name)\n",
    "ext_model = SkepForTokenClassification(ext_skep, num_classes=len(ext_label2id))\n",
    "ext_model.load_dict(ext_state_dict)\n",
    "print(\"extraction model loaded.\")\n",
    "\n",
    "# load cls model\n",
    "cls_state_dict = paddle.load(cls_model_path)\n",
    "cls_skep = SkepModel.from_pretrained(model_name)\n",
    "cls_model = SkepForSequenceClassification(cls_skep, num_classes=len(cls_label2id))\n",
    "cls_model.load_dict(cls_state_dict)\n",
    "print(\"classification model loaded.\")\n"
   ]
  },
  {
   "cell_type": "code",
   "execution_count": 17,
   "outputs": [
    {
     "name": "stdout",
     "output_type": "stream",
     "text": [
      "tag_seq: ['O', 'O', 'B-exp-Negative', 'B-exp-Negative', 'O', 'O', 'O', 'B-exp-Negative', 'O', 'I-exp-Negative', 'O', 'O', 'O', 'O']\n",
      "words: ['The', 'project', 'presents', 'challenges', 'in', 'implementation', 'and', 'requires', 'a', 'considerable', 'amount', 'of', 'new', 'knowledge']\n",
      "aspect: None, opinions: ['considerable', 'challenges', 'requires', 'presents'], sentiment: Negative\n",
      "\n",
      "tag_seq: ['O', 'O', 'O', 'O', 'O', 'O', 'O', 'B-exp-Negative', 'O', 'O', 'O', 'O', 'O', 'O', 'O', 'O', 'B-exp-Positive', 'I-exp-Positive', 'I-exp-Positive', 'O', 'O', 'O', 'O', 'B-exp-Positive', 'O', 'O', 'O', 'O', 'O', 'O', 'O', 'O', 'O']\n",
      "words: ['The', 'project', 'presents', 'challenges', 'in', 'implementation', 'and', 'requires', 'a', 'considerable', 'amount', 'of', 'new', 'knowledge,', 'but', 'it', 'offers', 'significant', 'value', 'and', 'serves', 'as', 'an', 'intriguing', 'starting', 'point', 'for', 'my', 'foray', 'into', 'structured', 'sentiment', 'analysis.']\n",
      "aspect: None, opinions: ['offers significant value', 'intriguing', 'requires'], sentiment: Positive\n",
      "\n"
     ]
    }
   ],
   "source": [
    "def decoding(text, tag_seq):\n",
    "    words = text.split(\" \")\n",
    "    assert len(words) == len(tag_seq), f\"text len: {len(text)}, tag_seq len: {len(tag_seq)}\"\n",
    "    puncs = list(\",.?;!\")\n",
    "    splits = [idx for idx in range(len(words)) if words[idx] in puncs]\n",
    "    print(f'words: {words}')\n",
    "\n",
    "    prev = 0\n",
    "    sub_texts, sub_tag_seqs = [], []\n",
    "    for i, split in enumerate(splits):\n",
    "        sub_tag_seqs.append(tag_seq[prev:split])\n",
    "        sub_texts.append(words[prev:split])\n",
    "        prev = split\n",
    "    sub_tag_seqs.append(tag_seq[prev:])\n",
    "    sub_texts.append((words[prev:]))\n",
    "    #print(f\"sub_tag_seqs: {sub_tag_seqs}\")\n",
    "\n",
    "    ents_list = []\n",
    "    for sub_text, sub_tag_seq in zip(sub_texts, sub_tag_seqs):\n",
    "        ents = get_entities(sub_tag_seq, suffix=False)\n",
    "        ents_list.append((sub_text, ents))\n",
    "\n",
    "    #print(f'ents_list: {ents_list}')\n",
    "    aps = []\n",
    "    no_a_words = []\n",
    "    for sub_tag_seq, ent_list in ents_list:\n",
    "        sub_aps = []\n",
    "        sub_no_a_words = []\n",
    "        # print(ent_list)\n",
    "        for ent in ent_list:\n",
    "            ent_name, start, end = ent\n",
    "            if ent_name == \"Aspect\":\n",
    "                aspect = sub_tag_seq[start:end + 1]\n",
    "                sub_aps.append([aspect])\n",
    "\n",
    "                if len(sub_no_a_words) > 0:\n",
    "                    sub_aps[-1].extend(sub_no_a_words)\n",
    "                    sub_no_a_words.clear()\n",
    "            else:\n",
    "                ent_name == \"Opinion\"\n",
    "                opinion = sub_tag_seq[start:end + 1]\n",
    "                opinion = \" \".join(opinion)\n",
    "                #print(f\"opinion: {opinion}\")\n",
    "                if len(sub_aps) > 0:\n",
    "                    sub_aps[-1].append(opinion)\n",
    "                else:\n",
    "                    sub_no_a_words.append(opinion)\n",
    "\n",
    "        if sub_aps:\n",
    "            aps.extend(sub_aps)\n",
    "            if len(no_a_words) > 0:\n",
    "                aps[-1].extend(no_a_words)\n",
    "                no_a_words.clear()\n",
    "        elif sub_no_a_words:\n",
    "            if len(aps) > 0:\n",
    "                aps[-1].extend(sub_no_a_words)\n",
    "            else:\n",
    "                no_a_words.extend(sub_no_a_words)\n",
    "\n",
    "    if no_a_words:\n",
    "        no_a_words.insert(0, \"None\")\n",
    "        aps.append(no_a_words)\n",
    "\n",
    "    return aps\n",
    "\n",
    "\n",
    "def is_aspect_first(text, aspect, opinion_word):\n",
    "    return text.find(aspect) <= text.find(opinion_word)\n",
    "\n",
    "\n",
    "def concate_aspect_and_opinion(text, aspect, opinion_words):\n",
    "    aspect_text = \"\"\n",
    "    if aspect == \"None\":\n",
    "        aspect = \"\"\n",
    "    for opinion_word in opinion_words:\n",
    "        if is_aspect_first(text, aspect, opinion_word):\n",
    "            aspect_text += aspect + opinion_word + \", \"\n",
    "        else:\n",
    "            aspect_text += opinion_word + aspect + \", \"\n",
    "    aspect_text = aspect_text[:-1]\n",
    "\n",
    "    return aspect_text\n",
    "\n",
    "\n",
    "def format_print(results):\n",
    "    for result in results:\n",
    "        aspect, opinions, sentiment = result[\"aspect\"], result[\"opinions\"], result[\"sentiment\"]\n",
    "        print(f\"aspect: {aspect}, opinions: {opinions}, sentiment: {sentiment}\")\n",
    "    print()\n",
    "\n",
    "\n",
    "def predict(input_text, ext_model, cls_model, tokenizer, ext_id2label, cls_id2label, max_seq_len=512):\n",
    "    ext_model.eval()\n",
    "    cls_model.eval()\n",
    "\n",
    "    # processing input text\n",
    "    text_list = input_text.split(\" \")\n",
    "    n = len(text_list)\n",
    "    encoded_inputs = tokenizer(text_list, is_split_into_words=True, max_seq_len=max_seq_len, )\n",
    "    input_ids = paddle.to_tensor([encoded_inputs[\"input_ids\"]])\n",
    "    token_type_ids = paddle.to_tensor([encoded_inputs[\"token_type_ids\"]])\n",
    "\n",
    "    # extract aspect and opinion words\n",
    "    logits = ext_model(input_ids, token_type_ids=token_type_ids)\n",
    "    predictions = logits.argmax(axis=2).numpy()[0]\n",
    "    tag_seq = [ext_id2label[idx] for idx in predictions][1:-1]\n",
    "    print(f'tag_seq: {tag_seq}')\n",
    "    aps = decoding(text, tag_seq)\n",
    "    #print(f'aps: {aps}')\n",
    "\n",
    "    # predict sentiment for aspect with cls_model\n",
    "    results = []\n",
    "    for ap in aps:\n",
    "        aspect = ap[0]\n",
    "        opinion_words = list(set(ap[1:]))\n",
    "        aspect_text = concate_aspect_and_opinion(input_text, aspect, opinion_words)\n",
    "\n",
    "        encoded_inputs = tokenizer(aspect_text, text_pair=input_text, max_seq_len=max_seq_len, return_length=True)\n",
    "        input_ids = paddle.to_tensor([encoded_inputs[\"input_ids\"]])\n",
    "        token_type_ids = paddle.to_tensor([encoded_inputs[\"token_type_ids\"]])\n",
    "\n",
    "        logits = cls_model(input_ids, token_type_ids=token_type_ids)\n",
    "        prediction = logits.argmax(axis=1).numpy()[0]\n",
    "\n",
    "        result = {\"aspect\": aspect, \"opinions\": opinion_words, \"sentiment\": cls_id2label[prediction]}\n",
    "        results.append(result)\n",
    "\n",
    "    # print results\n",
    "    format_print(results)\n",
    "\n",
    "\n",
    "max_seq_len = 512\n",
    "text = \"The project presents challenges in implementation and requires a considerable amount of new knowledge\"\n",
    "predict(text, ext_model, cls_model, tokenizer, ext_id2label, cls_id2label, max_seq_len=max_seq_len)\n",
    "text = \"The project presents challenges in implementation and requires a considerable amount of new knowledge, but it offers significant value and serves as an intriguing starting point for my foray into structured sentiment analysis.\"\n",
    "predict(text, ext_model, cls_model, tokenizer, ext_id2label, cls_id2label, max_seq_len=max_seq_len)\n"
   ],
   "metadata": {
    "collapsed": false,
    "ExecuteTime": {
     "start_time": "2023-04-24T20:36:29.069007Z",
     "end_time": "2023-04-24T20:36:29.116158Z"
    }
   }
  }
 ],
 "metadata": {
  "kernelspec": {
   "display_name": "Python 3",
   "language": "python",
   "name": "python3"
  },
  "language_info": {
   "codemirror_mode": {
    "name": "ipython",
    "version": 2
   },
   "file_extension": ".py",
   "mimetype": "text/x-python",
   "name": "python",
   "nbconvert_exporter": "python",
   "pygments_lexer": "ipython2",
   "version": "2.7.6"
  }
 },
 "nbformat": 4,
 "nbformat_minor": 0
}
